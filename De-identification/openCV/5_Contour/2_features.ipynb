{
 "cells": [
  {
   "cell_type": "code",
   "execution_count": 1,
   "metadata": {},
   "outputs": [],
   "source": [
    "import cv2 as cv\n",
    "import numpy as np\n",
    "import matplotlib.pyplot as plt"
   ]
  },
  {
   "cell_type": "code",
   "execution_count": 2,
   "metadata": {},
   "outputs": [
    {
     "data": {
      "text/plain": [
       "(248, 245, 3)"
      ]
     },
     "execution_count": 2,
     "metadata": {},
     "output_type": "execute_result"
    }
   ],
   "source": [
    "img = cv.imread('./contours.png')\n",
    "img.shape"
   ]
  },
  {
   "cell_type": "code",
   "execution_count": 3,
   "metadata": {},
   "outputs": [
    {
     "data": {
      "text/plain": [
       "<matplotlib.image.AxesImage at 0x1eaa34bb510>"
      ]
     },
     "execution_count": 3,
     "metadata": {},
     "output_type": "execute_result"
    },
    {
     "data": {
      "image/png": "[encoded data removed]",
      "text/plain": [
       "<Figure size 640x480 with 1 Axes>"
      ]
     },
     "metadata": {},
     "output_type": "display_data"
    }
   ],
   "source": [
    "gray = cv.cvtColor(img, cv.COLOR_BGR2GRAY)\n",
    "plt.imshow(gray, cmap='gray')"
   ]
  },
  {
   "cell_type": "code",
   "execution_count": 7,
   "metadata": {},
   "outputs": [],
   "source": [
    "contours, hierarchy = cv.findContours(gray, cv.RETR_TREE, cv.CHAIN_APPROX_SIMPLE)"
   ]
  },
  {
   "cell_type": "code",
   "execution_count": 8,
   "metadata": {},
   "outputs": [
    {
     "data": {
      "text/plain": [
       "(array([[[103, 142]],\n",
       " \n",
       "        [[103, 223]],\n",
       " \n",
       "        [[183, 223]],\n",
       " \n",
       "        [[183, 142]]], dtype=int32),\n",
       " array([[[212,  88]],\n",
       " \n",
       "        [[212, 114]],\n",
       " \n",
       "        [[238, 114]],\n",
       " \n",
       "        [[238,  88]]], dtype=int32),\n",
       " array([[[ 75,  33]],\n",
       " \n",
       "        [[ 75,  59]],\n",
       " \n",
       "        [[102,  59]],\n",
       " \n",
       "        [[103,  60]],\n",
       " \n",
       "        [[103,  87]],\n",
       " \n",
       "        [[129,  87]],\n",
       " \n",
       "        [[130,  88]],\n",
       " \n",
       "        [[130, 114]],\n",
       " \n",
       "        [[183, 114]],\n",
       " \n",
       "        [[183,  88]],\n",
       " \n",
       "        [[157,  88]],\n",
       " \n",
       "        [[156,  87]],\n",
       " \n",
       "        [[156,  60]],\n",
       " \n",
       "        [[130,  60]],\n",
       " \n",
       "        [[129,  59]],\n",
       " \n",
       "        [[129,  33]]], dtype=int32))"
      ]
     },
     "execution_count": 8,
     "metadata": {},
     "output_type": "execute_result"
    }
   ],
   "source": [
    "contours"
   ]
  },
  {
   "cell_type": "code",
   "execution_count": 9,
   "metadata": {},
   "outputs": [
    {
     "data": {
      "text/plain": [
       "array([[[ 1, -1, -1, -1],\n",
       "        [ 2,  0, -1, -1],\n",
       "        [-1,  1, -1, -1]]], dtype=int32)"
      ]
     },
     "execution_count": 9,
     "metadata": {},
     "output_type": "execute_result"
    }
   ],
   "source": [
    "hierarchy"
   ]
  },
  {
   "cell_type": "code",
   "execution_count": 12,
   "metadata": {},
   "outputs": [],
   "source": [
    "cnt = contours[2]\n",
    "M = cv.moments(cnt)"
   ]
  },
  {
   "cell_type": "code",
   "execution_count": 13,
   "metadata": {},
   "outputs": [
    {
     "data": {
      "text/plain": [
       "{'m00': 4267.0,\n",
       " 'm10': 551172.5,\n",
       " 'm01': 312909.5,\n",
       " 'm20': 74273196.33333333,\n",
       " 'm11': 42513736.75,\n",
       " 'm02': 25304424.333333332,\n",
       " 'm30': 10387986555.25,\n",
       " 'm21': 5987648181.666667,\n",
       " 'm12': 3576184448.6666665,\n",
       " 'm03': 2201995927.75,\n",
       " 'mu20': 3077713.6156745553,\n",
       " 'mu11': 2094915.238692291,\n",
       " 'mu02': 2358008.774334036,\n",
       " 'mu30': -1056219.9327812195,\n",
       " 'mu21': -190596.59942552447,\n",
       " 'mu12': 337113.1552209854,\n",
       " 'mu03': 523825.7870006561,\n",
       " 'nu20': 0.16903744515037658,\n",
       " 'nu11': 0.11505915233686305,\n",
       " 'nu02': 0.12950905400216559,\n",
       " 'nu30': -0.0008880711300897883,\n",
       " 'nu21': -0.00016025387534336245,\n",
       " 'nu12': 0.00028344519113260004,\n",
       " 'nu03': 0.00044043342129219563}"
      ]
     },
     "execution_count": 13,
     "metadata": {},
     "output_type": "execute_result"
    }
   ],
   "source": [
    "M"
   ]
  },
  {
   "cell_type": "code",
   "execution_count": 14,
   "metadata": {},
   "outputs": [
    {
     "data": {
      "text/plain": [
       "(129, 73)"
      ]
     },
     "execution_count": 14,
     "metadata": {},
     "output_type": "execute_result"
    }
   ],
   "source": [
    "# 객체의 중심좌표\n",
    "int(M['m10']/M['m00']), int(M['m01']/M['m00'])"
   ]
  },
  {
   "cell_type": "code",
   "execution_count": 15,
   "metadata": {},
   "outputs": [
    {
     "data": {
      "text/plain": [
       "4267.0"
      ]
     },
     "execution_count": 15,
     "metadata": {},
     "output_type": "execute_result"
    }
   ],
   "source": [
    "cv.contourArea(cnt)"
   ]
  },
  {
   "cell_type": "code",
   "execution_count": 16,
   "metadata": {},
   "outputs": [
    {
     "data": {
      "text/plain": [
       "375.65685415267944"
      ]
     },
     "execution_count": 16,
     "metadata": {},
     "output_type": "execute_result"
    }
   ],
   "source": [
    "cv.arcLength(cnt, True)"
   ]
  },
  {
   "cell_type": "code",
   "execution_count": 17,
   "metadata": {},
   "outputs": [
    {
     "data": {
      "text/plain": [
       "(75, 33, 109, 82)"
      ]
     },
     "execution_count": 17,
     "metadata": {},
     "output_type": "execute_result"
    }
   ],
   "source": [
    "x, y, w, h = cv.boundingRect(cnt)\n",
    "x, y, w, h"
   ]
  },
  {
   "cell_type": "code",
   "execution_count": 18,
   "metadata": {},
   "outputs": [
    {
     "data": {
      "text/plain": [
       "(4267.0,\n",
       " array([[[129,  33]],\n",
       " \n",
       "        [[156,  60]],\n",
       " \n",
       "        [[183,  88]],\n",
       " \n",
       "        [[183, 114]],\n",
       " \n",
       "        [[130, 114]],\n",
       " \n",
       "        [[ 75,  59]],\n",
       " \n",
       "        [[ 75,  33]]], dtype=int32))"
      ]
     },
     "execution_count": 18,
     "metadata": {},
     "output_type": "execute_result"
    }
   ],
   "source": [
    "area = cv.contourArea(cnt)\n",
    "hull = cv.convexHull(cnt)\n",
    "area, hull"
   ]
  },
  {
   "cell_type": "code",
   "execution_count": 19,
   "metadata": {},
   "outputs": [
    {
     "data": {
      "text/plain": [
       "0.7402845246356696"
      ]
     },
     "execution_count": 19,
     "metadata": {},
     "output_type": "execute_result"
    }
   ],
   "source": [
    "# solidity = 외곽선 영역 / 블록 껍질 영역\n",
    "area = cv.contourArea(cnt)\n",
    "hull = cv.convexHull(cnt)\n",
    "hull_area = cv.contourArea(hull)\n",
    "\n",
    "solidity = area / hull_area\n",
    "\n",
    "solidity"
   ]
  },
  {
   "cell_type": "code",
   "execution_count": 20,
   "metadata": {},
   "outputs": [
    {
     "data": {
      "text/plain": [
       "((4455, 2),\n",
       " array([[ 33,  75],\n",
       "        [ 33,  76],\n",
       "        [ 33,  77],\n",
       "        ...,\n",
       "        [114, 181],\n",
       "        [114, 182],\n",
       "        [114, 183]], dtype=int64))"
      ]
     },
     "execution_count": 20,
     "metadata": {},
     "output_type": "execute_result"
    }
   ],
   "source": [
    "# 객체를 구성하는 모든 좌표 구하기\n",
    "mask = np.zeros(gray.shape, np.uint8)\n",
    "cv.drawContours(mask, [cnt], 0, 255, -1)\n",
    "pixelpoints = np.transpose(np.nonzero(mask))\n",
    "pixelpoints.shape, pixelpoints"
   ]
  },
  {
   "cell_type": "code",
   "execution_count": 21,
   "metadata": {},
   "outputs": [
    {
     "data": {
      "text/plain": [
       "((75, 33), (183, 114), (75, 33), (130, 114))"
      ]
     },
     "execution_count": 21,
     "metadata": {},
     "output_type": "execute_result"
    }
   ],
   "source": [
    "# 극단 점 좌표 구하기\n",
    "leftmost = tuple(cnt[cnt[:,:,0].argmin()][0])\n",
    "rightmost = tuple(cnt[cnt[:,:,0].argmax()][0])\n",
    "topmost = tuple(cnt[cnt[:,:,1].argmin()][0])\n",
    "bottommost = tuple(cnt[cnt[:,:,1].argmax()][0])\n",
    "\n",
    "leftmost, rightmost, topmost, bottommost"
   ]
  },
  {
   "cell_type": "code",
   "execution_count": 22,
   "metadata": {},
   "outputs": [
    {
     "data": {
      "text/plain": [
       "<matplotlib.image.AxesImage at 0x1eaa5a4f290>"
      ]
     },
     "execution_count": 22,
     "metadata": {},
     "output_type": "execute_result"
    },
    {
     "data": {
      "image/png": "[encoded data removed]",
      "text/plain": [
       "<Figure size 640x480 with 1 Axes>"
      ]
     },
     "metadata": {},
     "output_type": "display_data"
    }
   ],
   "source": [
    "x, y, w, h = cv.boundingRect(cnt)\n",
    "\n",
    "# 이미지 위에 초록색 바운딩 박스 그리기\n",
    "img = cv.imread('./contours.png')\n",
    "cv.rectangle(img, (x, y), (x+w, y+h), (0, 255, 0), 2)\n",
    "\n",
    "plt.imshow(img)"
   ]
  },
  {
   "cell_type": "code",
   "execution_count": null,
   "metadata": {},
   "outputs": [],
   "source": []
  }
 ],
 "metadata": {
  "kernelspec": {
   "display_name": "base",
   "language": "python",
   "name": "python3"
  },
  "language_info": {
   "codemirror_mode": {
    "name": "ipython",
    "version": 3
   },
   "file_extension": ".py",
   "mimetype": "text/x-python",
   "name": "python",
   "nbconvert_exporter": "python",
   "pygments_lexer": "ipython3",
   "version": "3.11.5"
  }
 },
 "nbformat": 4,
 "nbformat_minor": 2
}
