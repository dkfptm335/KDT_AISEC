{
 "cells": [
  {
   "cell_type": "code",
   "execution_count": 1,
   "metadata": {},
   "outputs": [],
   "source": [
    "import numpy as np\n",
    "import cv2 as cv\n",
    "import matplotlib.pyplot as plt\n"
   ]
  },
  {
   "cell_type": "code",
   "execution_count": 2,
   "metadata": {},
   "outputs": [
    {
     "data": {
      "text/plain": [
       "<matplotlib.image.AxesImage at 0x213c9f32810>"
      ]
     },
     "execution_count": 2,
     "metadata": {},
     "output_type": "execute_result"
    },
    {
     "data": {
      "image/png": "[encoded data removed]",
      "text/plain": [
       "<Figure size 640x480 with 1 Axes>"
      ]
     },
     "metadata": {},
     "output_type": "display_data"
    }
   ],
   "source": [
    "img = np.array([[0, 0, 0, 0, 0, 0, 0, 0], \n",
    "                [0, 0, 1, 1, 0, 0, 0, 0],\n",
    "                [0, 0, 1, 1, 1, 0, 0, 0],\n",
    "                [0, 0, 1, 1, 1, 0, 1, 0],\n",
    "                [0, 0, 0, 0, 0, 0, 0, 0],\n",
    "                [0, 0, 0, 1, 1, 1, 0, 0],\n",
    "                [0, 0, 0, 1, 1, 1, 0, 0],\n",
    "                [0, 0, 0, 0, 0, 0, 0, 0]], np.uint8)\n",
    "\n",
    "plt.imshow(img, cmap='gray')"
   ]
  },
  {
   "cell_type": "code",
   "execution_count": 4,
   "metadata": {},
   "outputs": [
    {
     "name": "stdout",
     "output_type": "stream",
     "text": [
      "(array([[[3, 5]],\n",
      "\n",
      "       [[3, 6]],\n",
      "\n",
      "       [[4, 6]],\n",
      "\n",
      "       [[5, 6]],\n",
      "\n",
      "       [[5, 5]],\n",
      "\n",
      "       [[4, 5]]], dtype=int32), array([[[6, 3]]], dtype=int32), array([[[2, 1]],\n",
      "\n",
      "       [[2, 2]],\n",
      "\n",
      "       [[2, 3]],\n",
      "\n",
      "       [[3, 3]],\n",
      "\n",
      "       [[4, 3]],\n",
      "\n",
      "       [[4, 2]],\n",
      "\n",
      "       [[3, 1]]], dtype=int32))\n"
     ]
    }
   ],
   "source": [
    "# 외곽선 검출\n",
    "# - 정확한 외곽선 검출을 위해, thresholding과 edge detection 선행\n",
    "# - opencv에서는 객체를 하얀색으로, 배경을 검정색으로 간주하고 외곽선을 검출함\n",
    "\n",
    "# CHAIN_APPROX_NONE: 경계선에 걸친 모든 점들을 저장\n",
    "# CHAIN_APPROX_SIMPLE: 경계의 꼭지점만 저장\n",
    "\n",
    "contours, hierarchy = cv.findContours(img, cv.RETR_TREE, cv.CHAIN_APPROX_NONE)\n",
    "print(contours)"
   ]
  },
  {
   "cell_type": "code",
   "execution_count": null,
   "metadata": {},
   "outputs": [],
   "source": []
  }
 ],
 "metadata": {
  "kernelspec": {
   "display_name": "Python 3",
   "language": "python",
   "name": "python3"
  },
  "language_info": {
   "codemirror_mode": {
    "name": "ipython",
    "version": 3
   },
   "file_extension": ".py",
   "mimetype": "text/x-python",
   "name": "python",
   "nbconvert_exporter": "python",
   "pygments_lexer": "ipython3",
   "version": "3.11.5"
  }
 },
 "nbformat": 4,
 "nbformat_minor": 4
}
