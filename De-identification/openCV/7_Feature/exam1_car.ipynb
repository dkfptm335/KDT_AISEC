{
 "cells": [
  {
   "cell_type": "code",
   "execution_count": 1,
   "metadata": {},
   "outputs": [],
   "source": [
    "import cv2 as cv\n",
    "import numpy as np\n",
    "import matplotlib.pyplot as plt"
   ]
  },
  {
   "cell_type": "code",
   "execution_count": 13,
   "metadata": {},
   "outputs": [],
   "source": [
    "img  = cv.imread('ref.png')\n",
    "vid = cv.VideoCapture('../samples/cctv_1.mov')\n",
    "\n",
    "# cctv 영상을 재생하면서, ref.png 안의 차량이 매핑되는지 실시간 확인하는 코드를 작성"
   ]
  },
  {
   "cell_type": "code",
   "execution_count": 14,
   "metadata": {},
   "outputs": [],
   "source": [
    "# 영상 재생하기\n",
    "orb = cv.ORB_create()\n",
    "\n",
    "kp1, des1 = orb.detectAndCompute(img, None)\n",
    "\n",
    "while True:\n",
    "    ret, frame = vid.read()\n",
    "    if not ret:\n",
    "        break\n",
    "\n",
    "    # 영상에서 차량 검출하기\n",
    "    # 브루트포스 매칭을 사용하여 차량 검출하기\n",
    "    kp2, des2 = orb.detectAndCompute(frame, None)\n",
    "    \n",
    "    bf = cv.BFMatcher(cv.NORM_HAMMING, crossCheck=True)\n",
    "    \n",
    "    matches = bf.match(des1, des2)\n",
    "    \n",
    "    matches = sorted(matches, key = lambda x:x.distance)\n",
    "    \n",
    "    frame = cv.drawMatches(img, kp1, frame, kp2, matches[:10], None, flags=cv.DrawMatchesFlags_NOT_DRAW_SINGLE_POINTS)\n",
    "    \n",
    "    \n",
    "    \n",
    "    # 차량 검출 결과를 ref.png에 표시하기\n",
    "    \n",
    "    \n",
    "    # 차량 검출 결과를 화면에 표시하기\n",
    "    \n",
    "    \n",
    "    # 차량 검출 결과를 영상에 표시하기\n",
    "    \n",
    "    \n",
    "\n",
    "    cv.imshow('frame', frame)\n",
    "    if cv.waitKey(1) == 27:\n",
    "        break\n",
    "\n",
    "vid.release()\n",
    "cv.destroyAllWindows()"
   ]
  },
  {
   "cell_type": "code",
   "execution_count": null,
   "metadata": {},
   "outputs": [],
   "source": []
  },
  {
   "cell_type": "code",
   "execution_count": null,
   "metadata": {},
   "outputs": [],
   "source": []
  }
 ],
 "metadata": {
  "kernelspec": {
   "display_name": "base",
   "language": "python",
   "name": "python3"
  },
  "language_info": {
   "codemirror_mode": {
    "name": "ipython",
    "version": 3
   },
   "file_extension": ".py",
   "mimetype": "text/x-python",
   "name": "python",
   "nbconvert_exporter": "python",
   "pygments_lexer": "ipython3",
   "version": "3.11.5"
  }
 },
 "nbformat": 4,
 "nbformat_minor": 2
}
