{
 "cells": [
  {
   "cell_type": "code",
   "execution_count": 1,
   "id": "4e478b1d-fbdf-4ae6-a9d0-53f3cb9dd755",
   "metadata": {},
   "outputs": [],
   "source": [
    "import cv2 as cv\n",
    "import numpy as np"
   ]
  },
  {
   "cell_type": "code",
   "execution_count": 2,
   "id": "9a8bce82-756e-4dc8-a96f-b943431b9793",
   "metadata": {},
   "outputs": [
    {
     "data": {
      "text/plain": [
       "(512, 512, 3)"
      ]
     },
     "execution_count": 2,
     "metadata": {},
     "output_type": "execute_result"
    }
   ],
   "source": [
    "img = np.zeros((512, 512, 3), np.uint8)\n",
    "\n",
    "img.shape"
   ]
  },
  {
   "cell_type": "code",
   "execution_count": 3,
   "id": "f36afb28-1bf7-4dc3-929f-93b84fc3c64b",
   "metadata": {},
   "outputs": [
    {
     "data": {
      "text/plain": [
       "109"
      ]
     },
     "execution_count": 3,
     "metadata": {},
     "output_type": "execute_result"
    }
   ],
   "source": [
    "# 직선: 좌측 상단에서 우측 하단으로 이어지는 선\n",
    "# 어디에? 시작위치 종료위치 색상 굵기\n",
    "# (255, 0, 0) → (B, G, R)\n",
    "# cv.line(img, (0, 0), (511, 511), (255, 0, 0), 5)\n",
    "\n",
    "cv.line(img, (0, 256), (511, 256), (0, 0, 255), 5)\n",
    "cv.line(img, (256, 0), (256, 511), (0, 255, 0), 5)\n",
    "\n",
    "cv.imshow(\"drawing\", img)\n",
    "cv.waitKey(0)"
   ]
  },
  {
   "cell_type": "code",
   "execution_count": 4,
   "id": "e09c656f-89ec-4403-a8d9-e83c748b9298",
   "metadata": {},
   "outputs": [],
   "source": [
    "# 사각형\n",
    "# cv.rectangle(img, 좌측상단코너 좌표, 우측하단코너 좌표, 색상, 굵기)\n",
    "img = np.zeros((512, 512, 3), np.uint8)\n",
    "\n",
    "cv.rectangle(img, (384, 0), (510, 128), (0, 255, 0), 3)\n",
    "\n",
    "cv.imshow(\"drawing\", img)\n",
    "ret = cv.waitKey(0)"
   ]
  },
  {
   "cell_type": "code",
   "execution_count": 5,
   "id": "b3446441-3db1-4d44-a9d4-987f142764b7",
   "metadata": {},
   "outputs": [
    {
     "data": {
      "text/plain": [
       "109"
      ]
     },
     "execution_count": 5,
     "metadata": {},
     "output_type": "execute_result"
    }
   ],
   "source": [
    "# 폴리곤 그리기: 특수한 도형(지도 상에서 특정 지형을 표기할 때 사용)\n",
    "\n",
    "# 먼저, 연결할 좌표 값들을 numpy array로 정의\n",
    "pts = np.array([[10,5],[20,30],[70,20],[50,10]], np.int32)\n",
    "\n",
    "# 좌표값 점을 rows x 1 x 2 형태의 매트릭스로 변형\n",
    "pts = pts.reshape((-1,1,2))\n",
    "\n",
    "cv.polylines(img,[pts],True,(0,255,255))\n",
    "\n",
    "cv.imshow(\"drawing\", img)\n",
    "cv.waitKey(0)"
   ]
  },
  {
   "cell_type": "code",
   "execution_count": 7,
   "id": "719cf7a2-cc1a-47d8-86de-e81ad6275b72",
   "metadata": {},
   "outputs": [],
   "source": [
    "drawing = False # 마우스를 누른 상태에서는 True 값을 가짐\n",
    "mode = True # True라면 사각형을 그리는 모드 m을 눌러 모드 변경 가능\n",
    "ix,iy = -1,-1\n",
    "\n",
    "# 마우스 콜백 함수\n",
    "def draw_circle(event,x,y,flags,param):\n",
    "    global ix,iy,drawing,mode\n",
    "    \n",
    "    if event == cv.EVENT_LBUTTONDOWN:\n",
    "        drawing = True\n",
    "        ix,iy = x,y\n",
    "    elif event == cv.EVENT_MOUSEMOVE:\n",
    "        if drawing == True:\n",
    "            if mode == True:\n",
    "                cv.rectangle(img,(ix,iy),(x,y),(0,255,0),-1)\n",
    "            else:\n",
    "                cv.circle(img,(x,y),5,(0,0,255),-1)\n",
    "    elif event == cv.EVENT_LBUTTONUP:\n",
    "        drawing = False\n",
    "        if mode == True:\n",
    "            cv.rectangle(img,(ix,iy),(x,y),(0,255,0),-1)\n",
    "        else:\n",
    "            cv.circle(img,(x,y),5,(0,0,255),-1)\n",
    "\n",
    "            \n",
    "img = np.zeros((512,512,3), np.uint8)\n",
    "cv.namedWindow('image')\n",
    "cv.setMouseCallback('image',draw_circle)\n",
    "\n",
    "while(1):\n",
    "    cv.imshow('image',img)\n",
    "    k = cv.waitKey(1) & 0xFF\n",
    "    \n",
    "    # 모드 변경\n",
    "    if k == ord('m'):\n",
    "        mode = not mode\n",
    "    elif k == 27:\n",
    "        break\n",
    "cv.destroyAllWindows()"
   ]
  },
  {
   "cell_type": "code",
   "execution_count": null,
   "id": "1d68c8ff-ce83-4635-9b01-2adddb01e138",
   "metadata": {},
   "outputs": [],
   "source": []
  }
 ],
 "metadata": {
  "kernelspec": {
   "display_name": "Python 3 (ipykernel)",
   "language": "python",
   "name": "python3"
  },
  "language_info": {
   "codemirror_mode": {
    "name": "ipython",
    "version": 3
   },
   "file_extension": ".py",
   "mimetype": "text/x-python",
   "name": "python",
   "nbconvert_exporter": "python",
   "pygments_lexer": "ipython3",
   "version": "3.11.5"
  }
 },
 "nbformat": 4,
 "nbformat_minor": 5
}
