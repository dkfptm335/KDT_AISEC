{
 "cells": [
  {
   "cell_type": "code",
   "execution_count": 1,
   "id": "f819520c",
   "metadata": {},
   "outputs": [],
   "source": [
    "import numpy as np\n",
    "import cv2 as cv\n",
    "\n",
    "img = cv.imread('../samples/messi5.jpg')"
   ]
  },
  {
   "cell_type": "code",
   "execution_count": 2,
   "id": "f9bb3259",
   "metadata": {},
   "outputs": [
    {
     "name": "stdout",
     "output_type": "stream",
     "text": [
      "레이블 입력하세요\n",
      "[[331, 286, 60, 52, 'ball']]\n",
      "레이블 입력하세요\n",
      "[[331, 286, 60, 52, 'ball'], [59, 56, 402, 284, 'messi']]\n"
     ]
    }
   ],
   "source": [
    "img2 = img.copy()\n",
    "\n",
    "rois = []\n",
    "drawing = False\n",
    "ix, iy = -1, -1\n",
    "\n",
    "def draw_rectangle(event, x, y, flags, param):\n",
    "    \n",
    "    global drawing, ix, iy, rois, overlay, output, alpha\n",
    "    \n",
    "    overlay = img.copy()\n",
    "    output = img.copy()\n",
    "    alpha = 0.5\n",
    "        \n",
    "    if event == cv.EVENT_LBUTTONDOWN:\n",
    "        drawing = True\n",
    "        ix, iy = x, y\n",
    "        \n",
    "    elif event == cv.EVENT_MOUSEMOVE:\n",
    "        if drawing == True:\n",
    "            cv.rectangle(overlay, (ix, iy), (x, y), (0, 255, 0), 3)\n",
    "            cv.addWeighted(overlay, alpha, output, 1-alpha, 0, img2)\n",
    "            cv.imshow('image', img2)\n",
    "    \n",
    "    elif event == cv.EVENT_LBUTTONUP:\n",
    "        if drawing == True:\n",
    "            print('레이블 입력하세요',)\n",
    "            label = input()\n",
    "            w = x - ix \n",
    "            h = y - iy\n",
    "            r = [ix, iy, w, h, label]\n",
    "            rois.append(r)\n",
    "            print(rois)\n",
    "        \n",
    "        cv.rectangle(overlay, (ix, iy), (x, y), (0, 255, 0), 3)\n",
    "        cv.addWeighted(overlay, alpha, output, 1-alpha, 0, img)\n",
    "        \n",
    "        drawing = False\n",
    "        ix, iy = -1, -1\n",
    "\n",
    "cv.namedWindow('image')\n",
    "cv.setMouseCallback('image', draw_rectangle)\n",
    "\n",
    "while(1):\n",
    "    cv.imshow('image', img)\n",
    "    k = cv.waitKey(1) & 0xFF\n",
    "    \n",
    "    if k == 27:\n",
    "        break\n",
    "\n",
    "cv.destroyAllWindows()"
   ]
  },
  {
   "cell_type": "code",
   "execution_count": null,
   "id": "81ddf99c",
   "metadata": {},
   "outputs": [],
   "source": []
  }
 ],
 "metadata": {
  "kernelspec": {
   "display_name": "Python 3 (ipykernel)",
   "language": "python",
   "name": "python3"
  },
  "language_info": {
   "codemirror_mode": {
    "name": "ipython",
    "version": 3
   },
   "file_extension": ".py",
   "mimetype": "text/x-python",
   "name": "python",
   "nbconvert_exporter": "python",
   "pygments_lexer": "ipython3",
   "version": "3.11.5"
  }
 },
 "nbformat": 4,
 "nbformat_minor": 5
}
