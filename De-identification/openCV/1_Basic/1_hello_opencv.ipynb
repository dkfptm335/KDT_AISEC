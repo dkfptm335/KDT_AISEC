{
 "cells": [
  {
   "cell_type": "code",
   "execution_count": 4,
   "id": "ebd19609-f784-4ba8-b745-00517334bfb3",
   "metadata": {},
   "outputs": [
    {
     "data": {
      "text/plain": [
       "'4.8.0'"
      ]
     },
     "execution_count": 4,
     "metadata": {},
     "output_type": "execute_result"
    }
   ],
   "source": [
    "import cv2 as cv\n",
    "import sys\n",
    "\n",
    "cv.__version__"
   ]
  },
  {
   "cell_type": "code",
   "execution_count": 6,
   "id": "747b4969-5bbf-446a-b9bd-960b4399c18e",
   "metadata": {},
   "outputs": [
    {
     "data": {
      "text/plain": [
       "(752, 3)"
      ]
     },
     "execution_count": 6,
     "metadata": {},
     "output_type": "execute_result"
    }
   ],
   "source": [
    "img = cv.imread('../samples/starry_night.jpg')\n",
    "\n",
    "if img is None:\n",
    "    print(\"Not Found\")\n",
    "\n",
    "img[0].shape"
   ]
  },
  {
   "cell_type": "code",
   "execution_count": 10,
   "id": "b12ff162-b2ff-4cfe-8eaa-af73d45fb8ef",
   "metadata": {},
   "outputs": [],
   "source": [
    "cv.imshow(\"Display Window\", img)\n",
    "k = cv.waitKey(0)"
   ]
  },
  {
   "cell_type": "code",
   "execution_count": 11,
   "id": "a31f4cb5-74df-420c-9ade-240b56e0981e",
   "metadata": {},
   "outputs": [
    {
     "data": {
      "text/plain": [
       "True"
      ]
     },
     "execution_count": 11,
     "metadata": {},
     "output_type": "execute_result"
    }
   ],
   "source": [
    "cv.imwrite('starry_night_1.jpg', img)"
   ]
  },
  {
   "cell_type": "code",
   "execution_count": null,
   "id": "5af5e51b-b941-438d-96dd-c6e1938135bf",
   "metadata": {},
   "outputs": [],
   "source": []
  }
 ],
 "metadata": {
  "kernelspec": {
   "display_name": "Python 3 (ipykernel)",
   "language": "python",
   "name": "python3"
  },
  "language_info": {
   "codemirror_mode": {
    "name": "ipython",
    "version": 3
   },
   "file_extension": ".py",
   "mimetype": "text/x-python",
   "name": "python",
   "nbconvert_exporter": "python",
   "pygments_lexer": "ipython3",
   "version": "3.11.5"
  }
 },
 "nbformat": 4,
 "nbformat_minor": 5
}
