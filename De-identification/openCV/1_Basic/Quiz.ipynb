{
 "cells": [
  {
   "cell_type": "code",
   "execution_count": 1,
   "metadata": {},
   "outputs": [],
   "source": [
    "import cv2 as cv\n",
    "import numpy as np\n",
    "import matplotlib.pyplot as plt"
   ]
  },
  {
   "cell_type": "code",
   "execution_count": 19,
   "metadata": {},
   "outputs": [
    {
     "name": "stdout",
     "output_type": "stream",
     "text": [
      "messi [63, 55, 405, 279]\n",
      "ball [331, 282, 63, 57]\n"
     ]
    }
   ],
   "source": [
    "# 마우스 드래그로 ROI 지정\n",
    "\n",
    "drawing = False # 마우스를 누른 상태에서는 True 값을 가짐\n",
    "ix,iy = -1,-1\n",
    "\n",
    "label_dict = {} # labeling 정보를 저장할 dict\n",
    "\n",
    "# 마우스 콜백 함수\n",
    "def img_labeling(event,x,y,flags,param):\n",
    "    global ix,iy,drawing\n",
    "    \n",
    "    overlay = img.copy()\n",
    "    output = img.copy()\n",
    "    \n",
    "    alpha = 0.5\n",
    "    \n",
    "    if event == cv.EVENT_LBUTTONDOWN:\n",
    "        drawing = True\n",
    "        ix,iy = x,y\n",
    "\n",
    "    elif event == cv.EVENT_MOUSEMOVE:\n",
    "        if drawing == True:\n",
    "            cv.rectangle(overlay,(ix,iy),(x,y),(0,255,0), 1)\n",
    "            cv.addWeighted(overlay,alpha,output,1-alpha,0,output)\n",
    "            cv.imshow('image',output)    \n",
    "    \n",
    "    elif event == cv.EVENT_LBUTTONUP:\n",
    "        drawing = False\n",
    "        cv.rectangle(img,(ix,iy),(x,y),(0,255,0), 1)\n",
    "        # 사각형 그린 부분에 대한 labeling, dict 형태로 저장\n",
    "        # key : label 이름, value : 좌표\n",
    "        label = input(\"label name : \")\n",
    "        w = x - ix\n",
    "        h = y - iy\n",
    "        label_dict[label] = [ix,iy,w,h]\n",
    "        print(label, label_dict[label])\n",
    "        \n",
    "\n",
    "img = cv.imread('../samples/messi5.jpg')\n",
    "cv.namedWindow('image')\n",
    "cv.setMouseCallback('image',img_labeling)\n",
    "\n",
    "# 이미지 window 생성\n",
    "while True:\n",
    "    cv.imshow('image',img)\n",
    "    k = cv.waitKey(1) & 0xFF\n",
    "    \n",
    "    # 모드 변경\n",
    "    if k == 27:\n",
    "        break\n",
    "cv.destroyAllWindows()"
   ]
  },
  {
   "cell_type": "code",
   "execution_count": null,
   "metadata": {},
   "outputs": [],
   "source": []
  }
 ],
 "metadata": {
  "kernelspec": {
   "display_name": "base",
   "language": "python",
   "name": "python3"
  },
  "language_info": {
   "codemirror_mode": {
    "name": "ipython",
    "version": 3
   },
   "file_extension": ".py",
   "mimetype": "text/x-python",
   "name": "python",
   "nbconvert_exporter": "python",
   "pygments_lexer": "ipython3",
   "version": "3.11.5"
  }
 },
 "nbformat": 4,
 "nbformat_minor": 2
}
