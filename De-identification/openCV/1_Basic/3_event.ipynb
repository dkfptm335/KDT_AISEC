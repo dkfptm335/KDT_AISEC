{
 "cells": [
  {
   "cell_type": "code",
   "execution_count": 5,
   "id": "247ee299-adad-47ef-a65d-f66c6708ceae",
   "metadata": {},
   "outputs": [],
   "source": [
    "import cv2 as cv\n",
    "import numpy as np"
   ]
  },
  {
   "cell_type": "code",
   "execution_count": 6,
   "id": "b6f9588d-8848-4783-936d-be2c8ac30906",
   "metadata": {},
   "outputs": [],
   "source": [
    "img = cv.imread('../samples/starry_night.jpg')\n",
    "cv.imshow(\"Display Window\", img)\n",
    "\n",
    "while True:\n",
    "    wait = cv.waitKey(0)\n",
    "\n",
    "    k = wait & 0xFF\n",
    "\n",
    "    if k == 27:\n",
    "        cv.destroyAllWindows()\n",
    "        break"
   ]
  },
  {
   "cell_type": "code",
   "execution_count": 7,
   "id": "f783b71f-8f04-4836-8580-aefa6ec8b866",
   "metadata": {},
   "outputs": [
    {
     "data": {
      "text/plain": [
       "['EVENT_FLAG_ALTKEY',\n",
       " 'EVENT_FLAG_CTRLKEY',\n",
       " 'EVENT_FLAG_LBUTTON',\n",
       " 'EVENT_FLAG_MBUTTON',\n",
       " 'EVENT_FLAG_RBUTTON',\n",
       " 'EVENT_FLAG_SHIFTKEY',\n",
       " 'EVENT_LBUTTONDBLCLK',\n",
       " 'EVENT_LBUTTONDOWN',\n",
       " 'EVENT_LBUTTONUP',\n",
       " 'EVENT_MBUTTONDBLCLK',\n",
       " 'EVENT_MBUTTONDOWN',\n",
       " 'EVENT_MBUTTONUP',\n",
       " 'EVENT_MOUSEHWHEEL',\n",
       " 'EVENT_MOUSEMOVE',\n",
       " 'EVENT_MOUSEWHEEL',\n",
       " 'EVENT_RBUTTONDBLCLK',\n",
       " 'EVENT_RBUTTONDOWN',\n",
       " 'EVENT_RBUTTONUP']"
      ]
     },
     "execution_count": 7,
     "metadata": {},
     "output_type": "execute_result"
    }
   ],
   "source": [
    "events = [i for i in dir(cv) if 'EVENT' in i]\n",
    "events"
   ]
  },
  {
   "cell_type": "code",
   "execution_count": 8,
   "id": "427b0b8f-478d-46aa-b6d0-ff82fafe5581",
   "metadata": {},
   "outputs": [
    {
     "ename": "NameError",
     "evalue": "name 'draw_triangle' is not defined",
     "output_type": "error",
     "traceback": [
      "\u001b[1;31m---------------------------------------------------------------------------\u001b[0m",
      "\u001b[1;31mNameError\u001b[0m                                 Traceback (most recent call last)",
      "Cell \u001b[1;32mIn[8], line 16\u001b[0m\n\u001b[0;32m     13\u001b[0m cv\u001b[38;5;241m.\u001b[39mnamedWindow(\u001b[38;5;124m'\u001b[39m\u001b[38;5;124mimage\u001b[39m\u001b[38;5;124m'\u001b[39m)\n\u001b[0;32m     15\u001b[0m \u001b[38;5;66;03m# 마우스 이벤트와 윈도우 연결\u001b[39;00m\n\u001b[1;32m---> 16\u001b[0m cv\u001b[38;5;241m.\u001b[39msetMouseCallback(\u001b[38;5;124m'\u001b[39m\u001b[38;5;124mimage\u001b[39m\u001b[38;5;124m'\u001b[39m,draw_triangle)\n\u001b[0;32m     18\u001b[0m \u001b[38;5;28;01mwhile\u001b[39;00m(\u001b[38;5;241m1\u001b[39m):\n\u001b[0;32m     19\u001b[0m     \u001b[38;5;66;03m# image 윈도우에 이미지 출력\u001b[39;00m\n\u001b[0;32m     20\u001b[0m     cv\u001b[38;5;241m.\u001b[39mimshow(\u001b[38;5;124m'\u001b[39m\u001b[38;5;124mimage\u001b[39m\u001b[38;5;124m'\u001b[39m,img)\n",
      "\u001b[1;31mNameError\u001b[0m: name 'draw_triangle' is not defined"
     ]
    }
   ],
   "source": [
    "# 마우스 이벤트 잡기 = setMouseCallback\n",
    "# 이벤트 처리는 콜백 함수를 사용해야 함! 콜백함수 설명 필요\n",
    "\n",
    "# 마우스 콜백 함수\n",
    "# 이벤트, 이벤트 발생 x 좌표, 이벤트 발생 y 좌표, 플래그, 파라미터\n",
    "def draw_circle(event, x, y, flags, param):\n",
    "    if event == cv.EVENT_LBUTTONDBLCLK: # 마우스 좌측 버튼 더블 클릭을 하면 동그라미 그리기\n",
    "        cv.circle(img,(x,y),100,(255,0,0),-1)\n",
    "        \n",
    "        \n",
    "# 검정색 배경의 이미지와 새로운 윈도우 생성\n",
    "img = np.zeros((512,512,3), np.uint8)\n",
    "cv.namedWindow('image')\n",
    "\n",
    "# 마우스 이벤트와 윈도우 연결\n",
    "cv.setMouseCallback('image',draw_circle)\n",
    "\n",
    "while(1):\n",
    "    # image 윈도우에 이미지 출력\n",
    "    cv.imshow('image',img)\n",
    "    \n",
    "    # ESC를 누르면 종료\n",
    "    if cv.waitKey(20) & 0xFF == 27:\n",
    "        break\n",
    "        \n",
    "cv.destroyAllWindows()"
   ]
  },
  {
   "cell_type": "code",
   "execution_count": null,
   "id": "626061e6-b68a-4426-9714-a52f5ca25a78",
   "metadata": {},
   "outputs": [],
   "source": []
  }
 ],
 "metadata": {
  "kernelspec": {
   "display_name": "Python 3 (ipykernel)",
   "language": "python",
   "name": "python3"
  },
  "language_info": {
   "codemirror_mode": {
    "name": "ipython",
    "version": 3
   },
   "file_extension": ".py",
   "mimetype": "text/x-python",
   "name": "python",
   "nbconvert_exporter": "python",
   "pygments_lexer": "ipython3",
   "version": "3.11.5"
  }
 },
 "nbformat": 4,
 "nbformat_minor": 5
}
