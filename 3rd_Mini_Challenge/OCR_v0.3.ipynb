{
 "cells": [
  {
   "cell_type": "code",
   "execution_count": null,
   "metadata": {},
   "outputs": [],
   "source": [
    "import cv2 as cv\n",
    "import numpy as np\n",
    "import matplotlib.pyplot as plt\n",
    "import os\n",
    "import pytesseract as pyt\n",
    "import imutils\n",
    "\n",
    "pyt.pytesseract.tesseract_cmd = r'C:\\Tools\\Tesseract-OCR\\tesseract.exe'"
   ]
  },
  {
   "cell_type": "code",
   "execution_count": null,
   "metadata": {},
   "outputs": [],
   "source": [
    "# 명함 이미지 불러오기\n",
    "img_list = [f for f in os.listdir(r'C:\\Datasets\\De-identification mini challenge') if f.endswith('.jpg')]\n",
    "img_list.sort(key=lambda x: int(x.split('.')[0]))\n",
    "print(img_list)\n",
    "\n",
    "# 이미지 선택\n",
    "img_name = input('Input image number: ')\n",
    "img_name += '.jpg' if not img_name.endswith('.jpg') else img_name\n",
    "\n",
    "# 이미지 읽기\n",
    "img = cv.imread(r'C:\\Datasets\\De-identification mini challenge\\{}'.format(img_name))\n",
    "\n",
    "# 이미지 출력\n",
    "plt.imshow(img)"
   ]
  },
  {
   "cell_type": "code",
   "execution_count": null,
   "metadata": {},
   "outputs": [],
   "source": [
    "# 이미지의 세로 길이가 1000 되도록 이미지 크기 조절\n",
    "img_resized = imutils.resize(img, height=1000)"
   ]
  },
  {
   "cell_type": "code",
   "execution_count": null,
   "metadata": {},
   "outputs": [],
   "source": [
    "# 좌표 저장할 리스트\n",
    "coords = []\n",
    "\n",
    "# 마우스 클릭 이벤트 콜백 함수\n",
    "def mouse_callback(event, x, y, flags, param):\n",
    "    \n",
    "    # 마우스 왼쪽 버튼을 클릭할 때\n",
    "    if event == cv.EVENT_LBUTTONDOWN:\n",
    "        if len(coords) == 0:\n",
    "            print(f\"좌상단: ({x}, {y})\")\n",
    "            coords.append((x, y))\n",
    "        \n",
    "        elif len(coords) == 1:\n",
    "            print(f\"우상단: ({x}, {y})\")\n",
    "            coords.append((x, y))\n",
    "            \n",
    "        elif len(coords) == 2:\n",
    "            print(f\"좌하단: ({x}, {y})\")\n",
    "            coords.append((x, y))\n",
    "            \n",
    "        elif len(coords) == 3:\n",
    "            print(f\"우하단: ({x}, {y})\")\n",
    "            coords.append((x, y))\n",
    "        \n",
    "        # 좌표가 4개가 되면\n",
    "        if len(coords) == 4:\n",
    "            # 종료\n",
    "            cv.destroyAllWindows()\n",
    "\n",
    "# 윈도우 생성 및 이미지 표시\n",
    "cv.namedWindow(\"Click on the top left, top right, bottom left, and bottom right.\")\n",
    "cv.imshow(\"Click on the top left, top right, bottom left, and bottom right.\", img_resized)\n",
    "\n",
    "# 마우스 이벤트 콜백 함수 등록\n",
    "cv.setMouseCallback(\"Click on the top left, top right, bottom left, and bottom right.\", mouse_callback)\n",
    "\n",
    "# 키 입력 대기\n",
    "cv.waitKey(0)\n",
    "\n",
    "# 윈도우 종료\n",
    "cv.destroyAllWindows()"
   ]
  },
  {
   "cell_type": "code",
   "execution_count": null,
   "metadata": {},
   "outputs": [],
   "source": [
    "print(coords)"
   ]
  },
  {
   "cell_type": "code",
   "execution_count": null,
   "metadata": {},
   "outputs": [],
   "source": [
    "# 이미지 투시 변환\n",
    "pts1 = np.float32([coords[0], coords[1], coords[2], coords[3]])\n",
    "\n",
    "# 해당 좌표로 투시변환 가로 세로 90:50 비율로\n",
    "pts2 = np.float32([[0, 0], [900, 0], [0, 500], [900, 500]])\n",
    "\n",
    "m = cv.getPerspectiveTransform(pts1, pts2)\n",
    "card_image = cv.warpPerspective(img_resized, m, (900, 500))\n",
    "\n",
    "plt.imshow(card_image)"
   ]
  },
  {
   "cell_type": "code",
   "execution_count": null,
   "metadata": {},
   "outputs": [],
   "source": [
    "# to gray scale\n",
    "gray = cv.cvtColor(card_image, cv.COLOR_BGR2GRAY)\n",
    "\n",
    "# apply gaussian blur\n",
    "blurred = cv.GaussianBlur(gray, (3, 3), 0)\n",
    "\n",
    "# adaptive thresholding\n",
    "thresh = cv.adaptiveThreshold(blurred, 255, cv.ADAPTIVE_THRESH_GAUSSIAN_C, cv.THRESH_BINARY, 9, 5)\n",
    "\n",
    "# erode\n",
    "kernel = np.ones((1, 3), np.uint8)\n",
    "erode = cv.erode(thresh, kernel, iterations=1)\n",
    "\n",
    "plt.imshow(erode, cmap='gray')"
   ]
  },
  {
   "cell_type": "code",
   "execution_count": null,
   "metadata": {},
   "outputs": [],
   "source": [
    "# OCR 수행\n",
    "options = \"-l kor+eng --oem 3 --psm 6\"\n",
    "\n",
    "text = pyt.image_to_string(erode, config=options)\n",
    "\n",
    "# output\n",
    "print(text)"
   ]
  },
  {
   "cell_type": "code",
   "execution_count": null,
   "metadata": {},
   "outputs": [],
   "source": []
  }
 ],
 "metadata": {
  "kernelspec": {
   "display_name": "base",
   "language": "python",
   "name": "python3"
  },
  "language_info": {
   "codemirror_mode": {
    "name": "ipython",
    "version": 3
   },
   "file_extension": ".py",
   "mimetype": "text/x-python",
   "name": "python",
   "nbconvert_exporter": "python",
   "pygments_lexer": "ipython3",
   "version": "3.11.5"
  }
 },
 "nbformat": 4,
 "nbformat_minor": 2
}
